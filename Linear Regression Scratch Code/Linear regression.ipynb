{
 "cells": [
  {
   "cell_type": "code",
   "execution_count": 32,
   "id": "53893f5f-88c0-4306-a901-c07fb7ce7815",
   "metadata": {
    "tags": []
   },
   "outputs": [],
   "source": [
    "import numpy as np\n",
    "import pandas as pd\n",
    "import matplotlib.pyplot as plt\n"
   ]
  },
  {
   "cell_type": "code",
   "execution_count": 33,
   "id": "6785f8be-a008-4122-ac67-7b61f0c029e6",
   "metadata": {
    "tags": []
   },
   "outputs": [],
   "source": [
    "x = pd.read_csv('ex2Data linear regression/ex2x.dat', header=None).values\n",
    "y = pd.read_csv('ex2Data linear regression/ex2y.dat', header=None).values"
   ]
  },
  {
   "cell_type": "code",
   "execution_count": 18,
   "id": "38eb6f55-8af2-46e3-b6c2-815b7b6a02b1",
   "metadata": {
    "tags": []
   },
   "outputs": [
    {
     "name": "stdout",
     "output_type": "stream",
     "text": [
      "Mean of x: 4.9235719719999995\n",
      "Mean of y: 1.0646860546\n"
     ]
    }
   ],
   "source": [
    "# Calculate means\n",
    "x_mean = np.mean(x)\n",
    "y_mean = np.mean(y)\n",
    "\n",
    "print(f\"Mean of x: {x_mean}\")\n",
    "print(f\"Mean of y: {y_mean}\")\n"
   ]
  },
  {
   "cell_type": "code",
   "execution_count": 19,
   "id": "c57199d3-afb3-4795-bfa6-693c311aa8c7",
   "metadata": {
    "tags": []
   },
   "outputs": [
    {
     "name": "stdout",
     "output_type": "stream",
     "text": [
      "Slope (m): 0.06388116582583418\n",
      "Intercept (b): 0.7501625370012387\n"
     ]
    }
   ],
   "source": [
    "# Calculate the slope (m) and intercept (b)\n",
    "numerator = np.sum((x - x_mean) * (y - y_mean))\n",
    "denominator = np.sum((x - x_mean) ** 2)\n",
    "m = numerator / denominator\n",
    "b = y_mean - m * x_mean\n",
    "\n",
    "print(f\"Slope (m): {m}\")\n",
    "print(f\"Intercept (b): {b}\")\n"
   ]
  },
  {
   "cell_type": "code",
   "execution_count": 20,
   "id": "7249a090-78a9-42eb-a914-0ea7c74ac0c7",
   "metadata": {
    "tags": []
   },
   "outputs": [
    {
     "name": "stdout",
     "output_type": "stream",
     "text": [
      "Predicted y: [0.88213301 0.90145925 0.91242024 0.9125536  0.91300068 0.92817943\n",
      " 0.93616421 0.94408193 0.94913126 0.95191452 0.96273315 0.96603721\n",
      " 0.96813789 0.9687372  0.97576355 0.98264528 0.98481427 1.00093739\n",
      " 1.00887261 1.02155112 1.02766265 1.03013153 1.03271278 1.04467032\n",
      " 1.049645   1.06814594 1.07186788 1.07394126 1.09615246 1.09764812\n",
      " 1.09871866 1.10597078 1.10799754 1.11350339 1.11566247 1.12411594\n",
      " 1.14608539 1.15587783 1.16409354 1.18061805 1.18862808 1.19875772\n",
      " 1.20232859 1.20700379 1.22712502 1.2354925  1.24486287 1.24670868\n",
      " 1.25012538 1.25678078]\n"
     ]
    }
   ],
   "source": [
    "# Make predictions\n",
    "y_pred = m * x + b\n",
    "\n",
    "# Display first few predictions\n",
    "print(\"Predicted y:\", y_pred)\n"
   ]
  },
  {
   "cell_type": "code",
   "execution_count": 21,
   "id": "2b0f08d1-646d-4a37-a828-3d07582a7b6a",
   "metadata": {
    "tags": []
   },
   "outputs": [
    {
     "data": {
      "image/png": "[encoded data removed]",
      "text/plain": [
       "<Figure size 640x480 with 1 Axes>"
      ]
     },
     "metadata": {},
     "output_type": "display_data"
    }
   ],
   "source": [
    "# Plot the data and the linear regression line\n",
    "plt.scatter(x, y, color='blue', label='Actual data')\n",
    "plt.plot(x, y_pred, color='red', label='Fitted line')\n",
    "plt.xlabel('x')\n",
    "plt.ylabel('y')\n",
    "plt.title('Linear Regression')\n",
    "plt.legend()\n",
    "plt.show()\n"
   ]
  },
  {
   "cell_type": "raw",
   "id": "89563aa0-e4ab-4cde-8644-75203757c118",
   "metadata": {},
   "source": [
    "cost function"
   ]
  },
  {
   "cell_type": "code",
   "execution_count": 22,
   "id": "9cdb6f9f-0fab-4003-80ff-a7cd2e51bef7",
   "metadata": {
    "tags": []
   },
   "outputs": [],
   "source": [
    "def compute_cost(x, y, m, b):\n",
    "    \"\"\"\n",
    "    Compute the cost function for linear regression.\n",
    "    \n",
    "    Parameters:\n",
    "    x (array-like): Feature data\n",
    "    y (array-like): Target data\n",
    "    m (float): Slope of the regression line\n",
    "    b (float): Intercept of the regression line\n",
    "    \n",
    "    Returns:\n",
    "    float: Cost function value\n",
    "    \"\"\"\n",
    "    # Number of data points\n",
    "    n = len(y)\n",
    "    \n",
    "    # Predictions\n",
    "    y_pred = m * x + b\n",
    "    \n",
    "    # Compute the cost (Mean Squared Error)\n",
    "    cost = (1 / (2 * n)) * np.sum((y_pred - y) ** 2)\n",
    "    \n",
    "    return cost\n"
   ]
  },
  {
   "cell_type": "code",
   "execution_count": 23,
   "id": "58858360-3ca6-43cb-b76c-cbc4a846d535",
   "metadata": {
    "tags": []
   },
   "outputs": [
    {
     "name": "stdout",
     "output_type": "stream",
     "text": [
      "Cost (Mean Squared Error): 0.0009870699732761254\n"
     ]
    }
   ],
   "source": [
    "# Calculate the cost using the computed m and b\n",
    "cost = compute_cost(x, y, m, b)\n",
    "\n",
    "print(f\"Cost (Mean Squared Error): {cost}\")\n"
   ]
  },
  {
   "cell_type": "raw",
   "id": "74e3c228-9e00-405b-9cbf-0b0a13b49428",
   "metadata": {},
   "source": [
    "gradient descent"
   ]
  },
  {
   "cell_type": "code",
   "execution_count": 24,
   "id": "72bda352-3a45-4ef5-b9a1-b46ab132e4bf",
   "metadata": {
    "tags": []
   },
   "outputs": [],
   "source": [
    "# Initialize parameters\n",
    "m = 0  # Initial slope\n",
    "b = 0  # Initial intercept\n",
    "learning_rate = 0.01  # Learning rate\n",
    "num_iterations = 1000  # Number of iterations\n"
   ]
  },
  {
   "cell_type": "code",
   "execution_count": 25,
   "id": "baa7b09a-4ff4-4fa0-8bae-36376572d66b",
   "metadata": {
    "tags": []
   },
   "outputs": [],
   "source": [
    "def gradient_descent(x, y, m, b, learning_rate, num_iterations):\n",
    "    \"\"\"\n",
    "    Perform gradient descent to learn m and b.\n",
    "    \n",
    "    Parameters:\n",
    "    x (array-like): Feature data\n",
    "    y (array-like): Target data\n",
    "    m (float): Initial slope\n",
    "    b (float): Initial intercept\n",
    "    learning_rate (float): Learning rate\n",
    "    num_iterations (int): Number of iterations\n",
    "    \n",
    "    Returns:\n",
    "    tuple: (final_m, final_b, cost_history) where\n",
    "           final_m (float): Learned slope\n",
    "           final_b (float): Learned intercept\n",
    "           cost_history (list): List of cost values over iterations\n",
    "    \"\"\"\n",
    "    n = len(y)\n",
    "    cost_history = []\n",
    "\n",
    "    for _ in range(num_iterations):\n",
    "        # Predictions\n",
    "        y_pred = m * x + b\n",
    "        \n",
    "        # Compute gradients\n",
    "        dm = (1 / n) * np.sum((y_pred - y) * x)\n",
    "        db = (1 / n) * np.sum(y_pred - y)\n",
    "        \n",
    "        # Update parameters\n",
    "        m -= learning_rate * dm\n",
    "        b -= learning_rate * db\n",
    "        \n",
    "        # Calculate cost and save it to history\n",
    "        cost = compute_cost(x, y, m, b)\n",
    "        cost_history.append(cost)\n",
    "    \n",
    "    return m, b, cost_history\n"
   ]
  },
  {
   "cell_type": "code",
   "execution_count": 26,
   "id": "171504f6-f419-430e-af7a-174863a413ba",
   "metadata": {
    "tags": []
   },
   "outputs": [
    {
     "name": "stdout",
     "output_type": "stream",
     "text": [
      "Learned slope (m): 0.10972780473455851\n",
      "Learned intercept (b): 0.4981714778537114\n",
      "Final cost (Mean Squared Error): 0.004405471442653385\n"
     ]
    }
   ],
   "source": [
    "# Perform gradient descent\n",
    "m_learned, b_learned, cost_history = gradient_descent(x, y, m, b, learning_rate, num_iterations)\n",
    "\n",
    "print(f\"Learned slope (m): {m_learned}\")\n",
    "print(f\"Learned intercept (b): {b_learned}\")\n",
    "print(f\"Final cost (Mean Squared Error): {cost_history[-1]}\")\n"
   ]
  },
  {
   "cell_type": "code",
   "execution_count": 27,
   "id": "222cd32b-6a4e-48a1-9d3c-540192c76ca2",
   "metadata": {
    "tags": []
   },
   "outputs": [
    {
     "data": {
      "image/png": "[encoded data removed]",
      "text/plain": [
       "<Figure size 640x480 with 1 Axes>"
      ]
     },
     "metadata": {},
     "output_type": "display_data"
    }
   ],
   "source": [
    "# Plot the cost history\n",
    "plt.plot(range(num_iterations), cost_history, color='blue')\n",
    "plt.xlabel('Number of Iterations')\n",
    "plt.ylabel('Cost')\n",
    "plt.title('Cost History')\n",
    "plt.show()\n"
   ]
  },
  {
   "cell_type": "code",
   "execution_count": 28,
   "id": "39c57a32-8afa-4781-bcec-ab6ba497034d",
   "metadata": {
    "tags": []
   },
   "outputs": [],
   "source": [
    "def compute_cost_with_regularization(x, y, m, b, lambda_):\n",
    "    \"\"\"\n",
    "    Compute the cost with L2 regularization.\n",
    "    \n",
    "    Parameters:\n",
    "    x (array-like): Feature data\n",
    "    y (array-like): Target data\n",
    "    m (float): Slope\n",
    "    b (float): Intercept\n",
    "    lambda_ (float): Regularization parameter\n",
    "    \n",
    "    Returns:\n",
    "    float: Regularized cost\n",
    "    \"\"\"\n",
    "    n = len(y)\n",
    "    y_pred = m * x + b\n",
    "    cost = (1 / (2 * n)) * np.sum((y_pred - y) ** 2)\n",
    "    regularization_term = (lambda_ / (2 * n)) * np.sum(m ** 2)\n",
    "    return cost + regularization_term"
   ]
  },
  {
   "cell_type": "code",
   "execution_count": 29,
   "id": "b986b3a2-e6ae-48b0-a9e4-823657542f03",
   "metadata": {
    "tags": []
   },
   "outputs": [],
   "source": [
    "def gradient_descent_with_regularization(x, y, m, b, learning_rate, num_iterations, lambda_):\n",
    "    \"\"\"\n",
    "    Perform gradient descent to learn m and b with L2 regularization.\n",
    "    \n",
    "    Parameters:\n",
    "    x (array-like): Feature data\n",
    "    y (array-like): Target data\n",
    "    m (float): Initial slope\n",
    "    b (float): Initial intercept\n",
    "    learning_rate (float): Learning rate\n",
    "    num_iterations (int): Number of iterations\n",
    "    lambda_ (float): Regularization parameter\n",
    "    \n",
    "    Returns:\n",
    "    tuple: (final_m, final_b, cost_history) where\n",
    "           final_m (float): Learned slope\n",
    "           final_b (float): Learned intercept\n",
    "           cost_history (list): List of cost values over iterations\n",
    "    \"\"\"\n",
    "    n = len(y)\n",
    "    cost_history = []\n",
    "\n",
    "    for _ in range(num_iterations):\n",
    "        # Predictions\n",
    "        y_pred = m * x + b\n",
    "        \n",
    "        # Compute gradients with L2 regularization\n",
    "        dm = (1 / n) * np.sum((y_pred - y) * x) + (lambda_ * m)\n",
    "        db = (1 / n) * np.sum(y_pred - y)\n",
    "        \n",
    "        # Update parameters\n",
    "        m -= learning_rate * dm\n",
    "        b -= learning_rate * db\n",
    "        \n",
    "        # Calculate cost and save it to history\n",
    "        cost = compute_cost_with_regularization(x, y, m, b, lambda_)\n",
    "        cost_history.append(cost)\n",
    "    \n",
    "    return m, b, cost_history"
   ]
  },
  {
   "cell_type": "code",
   "execution_count": 30,
   "id": "9ab3d446-d2c9-4f32-a874-1b7b18b0fbdc",
   "metadata": {
    "tags": []
   },
   "outputs": [
    {
     "name": "stdout",
     "output_type": "stream",
     "text": [
      "Learned slope (m): 0.10667383042138744\n",
      "Learned intercept (b): 0.5128645491259123\n",
      "Final cost (Mean Squared Error with Regularization): 0.00403008900517287\n"
     ]
    }
   ],
   "source": [
    "# Initialize parameters\n",
    "m = 0  # Initial slope\n",
    "b = 0  # Initial intercept\n",
    "learning_rate = 0.01  # Learning rate\n",
    "num_iterations = 1000  # Number of iterations\n",
    "lambda_ = 0.1  # Regularization parameter\n",
    "\n",
    "# Perform gradient descent with regularization\n",
    "m_learned, b_learned, cost_history = gradient_descent_with_regularization(x, y, m, b, learning_rate, num_iterations, lambda_)\n",
    "\n",
    "print(f\"Learned slope (m): {m_learned}\")\n",
    "print(f\"Learned intercept (b): {b_learned}\")\n",
    "print(f\"Final cost (Mean Squared Error with Regularization): {cost_history[-1]}\")\n"
   ]
  },
  {
   "cell_type": "code",
   "execution_count": 31,
   "id": "f792b72c-9d77-48ff-a7eb-eb8c22431455",
   "metadata": {
    "tags": []
   },
   "outputs": [
    {
     "data": {
      "image/png": "[encoded data removed]",
      "text/plain": [
       "<Figure size 640x480 with 1 Axes>"
      ]
     },
     "metadata": {},
     "output_type": "display_data"
    }
   ],
   "source": [
    "# Plot the cost history\n",
    "plt.plot(range(num_iterations), cost_history, color='blue')\n",
    "plt.xlabel('Number of Iterations')\n",
    "plt.ylabel('Cost')\n",
    "plt.title('Cost History with Regularization')\n",
    "plt.show()\n"
   ]
  },
  {
   "cell_type": "code",
   "execution_count": null,
   "id": "2b6bc9f4-ab1c-487b-bd3b-83e90cf336b4",
   "metadata": {},
   "outputs": [],
   "source": []
  },
  {
   "cell_type": "code",
   "execution_count": null,
   "id": "691904a8-fcb5-4cf6-8043-b80a24943e26",
   "metadata": {},
   "outputs": [],
   "source": []
  }
 ],
 "metadata": {
  "kernelspec": {
   "display_name": "Python 3 (ipykernel)",
   "language": "python",
   "name": "python3"
  },
  "language_info": {
   "codemirror_mode": {
    "name": "ipython",
    "version": 3
   },
   "file_extension": ".py",
   "mimetype": "text/x-python",
   "name": "python",
   "nbconvert_exporter": "python",
   "pygments_lexer": "ipython3",
   "version": "3.11.5"
  }
 },
 "nbformat": 4,
 "nbformat_minor": 5
}
